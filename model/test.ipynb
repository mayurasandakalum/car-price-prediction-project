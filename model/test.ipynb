{
 "cells": [
  {
   "cell_type": "code",
   "execution_count": 5,
   "metadata": {},
   "outputs": [
    {
     "name": "stdout",
     "output_type": "stream",
     "text": [
      "c:\\Users\\mssel\\Documents\\Projects\\Car Price Prediction\\model\n"
     ]
    }
   ],
   "source": [
    "import os\n",
    "\n",
    "print(os.getcwd())"
   ]
  },
  {
   "cell_type": "code",
   "execution_count": 39,
   "metadata": {},
   "outputs": [],
   "source": [
    "import json\n",
    "\n",
    "with open(\"./json_data/car_colors.json\") as f:\n",
    "    data = json.load(f)"
   ]
  },
  {
   "cell_type": "code",
   "execution_count": 41,
   "metadata": {},
   "outputs": [
    {
     "name": "stdout",
     "output_type": "stream",
     "text": [
      "FORD 16\n"
     ]
    }
   ],
   "source": [
    "max_value = 0\n",
    "max_key = \"\"\n",
    "\n",
    "for key, value in data.items():\n",
    "    if len(list(dict(value).values())[0]) > max_value:\n",
    "        max_value = len(list(dict(value).values())[0])\n",
    "        max_key = key\n",
    "    # print(key, len(list(dict(value).values())[0]))\n",
    "\n",
    "print(max_key, max_value)"
   ]
  },
  {
   "cell_type": "code",
   "execution_count": 59,
   "metadata": {},
   "outputs": [
    {
     "name": "stdout",
     "output_type": "stream",
     "text": [
      "['ACURA', 'ALFA ROMEO', 'AUDI', 'BMW', 'BUICK', 'CADILLAC', 'CHEVROLET', 'CHRYSLER', 'CITROEN', 'DAEWOO', 'DAIHATSU', 'DODGE', 'FERRARI', 'FIAT', 'FORD', 'GAZ', 'GMC', 'GREATWALL', 'HAVAL', 'HONDA', 'HUMMER', 'HYUNDAI', 'INFINITI', 'ISUZU', 'JAGUAR', 'JEEP', 'KIA', 'LANCIA', 'LAND ROVER', 'LEXUS', 'LINCOLN', 'MASERATI', 'MAZDA', 'MERCEDES-BENZ', 'MERCURY', 'MINI', 'MITSUBISHI', 'MOSKVICH', 'NISSAN', 'OPEL', 'PEUGEOT', 'PONTIAC', 'PORSCHE', 'RENAULT', 'ROLLS-ROYCE', 'ROVER', 'SAAB', 'SATURN', 'SCION', 'SEAT', 'SKODA', 'SSANGYONG', 'SUBARU', 'SUZUKI', 'TOYOTA', 'UAZ', 'VAZ', 'VOLKSWAGEN', 'VOLVO', 'ZAZ']\n"
     ]
    }
   ],
   "source": [
    "import json\n",
    "\n",
    "with open(\"./json_data/car_manufacturers.json\") as f:\n",
    "    data = json.load(f)\n",
    "\n",
    "print(list(data))"
   ]
  },
  {
   "cell_type": "code",
   "execution_count": null,
   "metadata": {},
   "outputs": [],
   "source": []
  },
  {
   "cell_type": "code",
   "execution_count": 56,
   "metadata": {},
   "outputs": [
    {
     "name": "stdout",
     "output_type": "stream",
     "text": [
      "{'ACURA': {'models': ['TL', 'TLX', 'RDX', 'TSX', 'MDX', 'TL saber']}, 'ALFA ROMEO': {'models': ['147', '159', 'Giulietta', '166']}, 'AUDI': {'models': ['Q7', 'Q5', '50', 'A6', 'A7', 'A4 premium', 'A4', 'Q3', 'A5', 'A3 PREMIUM', 'A8', 'A4 S line', 'A4 premium plius', 'Allroad', 'Q5 S-line', '100', 'RS7', 'A3', 'Q7 sport', 'A3 4X4', 'A4 B6', 'A6 UNIVERSAL', 'Q5 Prestige', 'A6 QUATTRO', 'A4 B5', 'RS6', 'S3', 'A4 S4', 'A4 B7', 'TT', 'A6 premium plus', 'A5 Sportback', 'S6', 'A6 C7', 'A6 evropuli', 'A4 Sline']}, 'BMW': {'models': ['X5', '535', '520 Vanos', '428 Sport Line', '328', '325', '530', '330', '318', '750', 'X6', '328 Xdrive', '535 M PAKET', '520', '525', '320', '528 i', 'X5 x5', '114', '320 DIESEL', '335', '730 3.0', 'X5 M', '435', 'X6 M', '325 CI', '428', '320 M', '528', '316 i', '740', '120', '135', '540 I', '650', '550', 'X5 XDRIVE', '535 i', '523', '320 i', '316', '5.30E+62', 'X3', 'X5 e53', 'M5 Japan', 'X1', '130', 'X5 XDRIVE 35D', '320 Gran Turismo', '535 Twinturbo', 'X5 X-Drive', '128 M tech', 'X3 3.5i', '550 F10', '545', 'X5 4,4i', '320 2.2', '645 CI', '225', '525 i', '320 2.0', '328 DIZEL', '320 320', '535 comfort-sport', '525 525', 'X5 3.0', '745 i', '320 I', '735', '116', '328 sulev', 'M5', 'X1 28Xdrive', 'X5 restilling', '335 335i', '750 4.8', 'X5 rest', 'X1 X-Drive', 'X5 3.0i', '3.25E+48', '645', '3.20E+38', 'M3', 'X1 4X4', '530 GT', 'M6', '325 i', 'i3', '535 I', '328 DRIFT CAR', '328 i', '745', '3.18E+38', '520 I', '525 ///M', '730', '318 m', 'X3 SDRIVE', 'X5 Japan', '535 535', '550 M Packet', '118', '118 2,0', '335 D', '535 XI', 'X5 4.8is', '525 TDI', 'X5 M packet', '320 Diesel', 'M550', '535 i xDrive', '323', '128', 'Z4', '530 M', 'M4', '340', '318 318', '530 525i', 'X5 DIESEL', '520 d xDrive Luxury', 'X4', '118 M-sport LCI', '525 Vanos', '7.30E+34', '335 M paket', 'X5 E70', '740 i', '535 M', '428 i', '530 I', '316 1995', 'Z4 3,0 SI', '325 XI', 'X5 35d', 'X5 Sport', '528 3.0', '530 i']}, 'BUICK': {'models': ['Century', 'Encore', 'Enclave', 'Regal']}, 'CADILLAC': {'models': ['Allante', 'Escalade', 'CTS', 'SRX', 'ATS', 'Catera', 'DTS']}, 'CHEVROLET': {'models': ['Equinox', 'Cruze LT', 'Captiva', 'Cruze', 'Orlando', 'Volt', 'Avalanche', 'Malibu', 'Lacetti', 'Aveo', 'Matiz', 'Spark', 'Impala', 'Cruze ltz', 'Cruze LTZ', 'Camaro', 'Cruze strocna', 'Volt premier', 'Traverse', 'Cruze Premier', '1500', 'Equinox LT', 'Cruze RS', 'Sonic', 'Cruze LS', 'Trailblazer', 'Cruze sonic', 'Nubira', 'Cruze L T', 'Malibu LT', 'Malibu eco', 'HHR', 'Suburban', 'Cruze Cruze', 'Camaro LS', 'Silverado', 'Malibu Hybrid', 'Trax', 'Volt Full Packet', 'Volt PREMIER', 'Sonic LT', 'Corvette', 'Cruze PREMIER', 'Niva', 'Volt Premier', 'Camaro RS', 'Cruze LT RS', 'Kalos', 'Cruze S']}, 'CHRYSLER': {'models': ['200', 'PT Cruiser', 'Town and Country', 'Sebring', 'Pacifica', '300', '300 LIMITED', 'PT Cruiser pt cruiser', 'Crossfire']}, 'CITROEN': {'models': ['C1', 'C8', 'C4', 'C5', 'Berlingo', 'C1 C', 'DS 4']}, 'DAEWOO': {'models': ['Lacetti', 'Gentra', 'Matiz']}, 'DAIHATSU': {'models': ['Terios', 'YRV', 'Sirion', 'Feroza', 'Mira', 'Move']}, 'DODGE': {'models': ['Challenger', 'Journey', 'Dart Limited', 'Dart GT 2.4', 'RAM', 'Avenger', 'Durango', 'Caliber', 'Ramcharger', 'Caravan', 'Intrepid', 'Caliber sxt', 'Dart', 'Neon', 'RAM 1500', 'Caravan tradesman', 'Charger RT', 'Caliber journey']}, 'FERRARI': {'models': ['F50']}, 'FIAT': {'models': ['500', '500C Lounge', '500 Abarth', '500L LONG', 'Cinquecento', '500 Sport', 'Doblo', '500 turbo', '500C', '500 46 ml', '500 Lounge', 'Panda', '500L', '500 sport', '500 s', '500X', '500X Lounge', 'Seicento fiat 600', '500 sport panorama', 'Punto', '500 SPORT']}, 'FORD': {'models': ['Escape', 'Transit', 'Escape Hybrid', 'Fusion', 'Mustang', 'Focus SE', 'Explorer', 'C-MAX', 'Fusion Titanium', 'Taurus', 'Galaxy', 'Fiesta', 'Fiesta 1.6', 'Focus', 'Fusion TITANIUM', 'Transit Connect', 'Tourneo Connect', 'Transit 350T', 'Edge', 'Mondeo', 'Escort', 'Sierra', 'Fusion phev', 'Escape Titanium', 'Ranger', 'Transit CL', 'Escape 3.0', 'Transit Fff', 'Transit S', 'C-MAX HYBRID', 'Transit 135', 'Expedition', 'Taurus interceptor', 'Focus TITANIUM', 'KA', 'Focus ST', 'Maverick', 'S-max', 'C-MAX SEL', 'Fusion SE', 'B-MAX', 'Focus Fokusi', 'Transit Custom', 'Focus Flexfuel', 'Transit Connect Prastoi', 'Transit T330', 'Escape SE', 'EcoSport SE', 'Focus Titanium', 'F150', 'Cougar', 'C-MAX C-MAX', 'Focus se', 'C-MAX PREMIUM', 'Mustang cabrio', 'Transit Tourneo', 'C-MAX SE', 'Transit 100LD', 'Explorer Turbo japan', 'Fusion Bybrid', 'Fusion 2015', 'Fusion HIBRID', 'Fiesta SE', 'Explorer XLT', 'Fusion 1.6', 'Transit ford', 'Escape HYBRID', 'EcoSport', 'Scorpio', 'Fusion hybrid', 'Courier', 'Transit 2.4', 'Fusion HYBRID', 'Sierra DIZEL', 'Fusion Hybrid', 'Taurus X', 'Escape escape', 'Focus SEL', 'Fusion HYBRID SE']}, 'GAZ': {'models': ['32214', '24 10', '3796', '24', '3110', '322173', '21 3.0', '21', '31105', '20']}, 'GMC': {'models': ['TERRAIN', 'Yukon', 'Acadia', 'Envoy']}, 'GREATWALL': {'models': ['C30']}, 'HAVAL': {'models': ['H6']}, 'HONDA': {'models': ['FIT', 'Civic', 'Cr-v', 'Hr-v EX', 'Insight', 'Stream', 'Shuttle', 'Element', 'Odyssey', 'Insight EX', 'Hr-v', 'Accord', 'FIT Sport', 'Step Wagon Pada', 'FIT SPORT', 'Civic EX', 'FIT Hbrid', 'Passport', 'Fit Aria', 'FIT S', 'Inspire', 'Fred', 'FIT HIBRID', 'Pilot', 'Elysion', 'Accord CL9 type S', 'FIT HYBRYD', 'FIT fit', 'Edix', 'Elysion 3.0', 'Civic Ferio', 'CR-Z', 'FIT Premiym', 'Cr-v Cr-v', 'FIT RS MODELI', 'FIT RS', 'Fred HIBRIDI', 'FIT RS MUGEN', 'CRX', 'Step Wagon', 'Edix FR-v', 'FIT Modulo', 'FIT GP-5', 'FIT \"S\"- PAKETI.', 'Cr-v LX', 'FIT ex', 'Crossroad', '400X', 'Insight LX', 'FIT GP-6', 'Hr-v EXL', 'FIT Hybrid', 'FIT PREMIUMI', 'Crosstour', 'Legend FULL', 'FIT PREMIUM PAKETI', 'Integra', 'Step Wagon RG2 SPADA', 'FIT NAVI PREMIUM', 'Civic Hybrid', 'Ridgeline', 'FIT LX']}, 'HUMMER': {'models': ['H3', 'H2']}, 'HYUNDAI': {'models': ['Santa FE', 'Sonata', 'Elantra', 'H1', 'Tucson', 'Genesis', 'Elantra sport limited', 'I30', 'Veloster', 'Sonata SPORT', 'Elantra SE', 'Accent', 'Grandeur', 'kona', 'IX35', 'Elantra limited', 'Sonata 2.0t', 'Sonata S', 'Sonata blue edition', 'Sonata hybrid', 'Elantra LIMITED', 'Elantra GT', 'Sonata HYBRID', 'Santa FE Ultimate', 'Sonata Hibrid', 'Getz', 'Elantra gt', 'Elantra Limited', 'Elantra GLS / LIMITED', 'Ioniq', 'Sonata LPG', 'IX35 2.0', 'Veloster R-spec', 'Azera', 'Sonata Hybrid', 'Elantra Gt', 'Tucson Limited', 'Elantra Se', 'Elantra 2014', 'Lantra', 'Sonata Limited', 'Tucson Se', 'Sonata 2.4L', 'Lantra LIMITED', 'Veloster Turbo', 'Sonata Sport', 'Tucson SE', 'H1 grandstarex', 'H1 GRAND STAREX', 'Accent SE', 'Elantra 2016', 'Veloster TURBO', 'Veloster remix', 'Elantra LIMITEDI', 'Elantra i30', 'Santa FE sport', 'Sonata sport', 'Sonata SE LIMITED', 'H1 starixs', 'Accent GS', 'Sonata LIMITED', 'Elantra GS', 'i20', 'i40', 'Sonata SE', 'Veracruz', 'Galloper', 'Elantra se']}, 'INFINITI': {'models': ['QX60', 'QX80', 'G20', 'FX35', 'EX37', 'JX35', 'FX45', 'EX35', 'QX56', 'M37', 'G37', 'Q50 S Red', 'G35 x', 'Q45']}, 'ISUZU': {'models': ['Rodeo', 'VehiCross', 'Wizard']}, 'JAGUAR': {'models': ['XF', 'F-type', 'XJ', 'E-pace', 'X-type', 'F-pace', 'Daimler', 'XK', 'S-type']}, 'JEEP': {'models': ['Grand Cherokee', 'Compass', 'Cherokee', 'Liberty', 'Grand Cherokee Saiubileo', 'Wrangler', 'Renegade', 'Patriot', 'Grand Cherokee LAREDO', 'Grand Cherokee special e', 'Wrangler sport', 'Patriot 70th anniversary', 'Patriot Latitude']}, 'KIA': {'models': ['Picanto', 'Carnival grand', 'Cerato K3', 'Optima', 'RIO', 'SOUL', 'Sorento', 'Sportage', 'Carnival', 'Cadenza', 'Cerato', 'RIO lx', 'Avella', 'Forte', 'RIO lX', 'Optima X', 'Optima Hybrid', 'Sorento SX', 'Optima ECO', 'Niro', 'Optima HYBRID', 'Sportage SX', 'Sportage EX', 'Optima EX', 'Sorento EX', 'Ceed', 'Sportage PRESTIGE', 'Optima SXL', 'Carens', 'Optima hybrid', 'Optima hybid', 'Optima ex', 'Optima k5']}, 'LANCIA': {'models': ['Musa']}, 'LAND ROVER': {'models': ['Discovery', 'Freelander', 'Range Rover', 'Land Rover Sport', 'Discovery LR3', 'Range Rover VOGUE', 'Range Rover Evoque 2.0', 'Discovery IV']}, 'LEXUS': {'models': ['RX 450', 'RX 350', 'RX 400', 'GX 470', 'GX 460', 'CT 200h', 'RX 300', 'RX 400 HYBRID', 'NX 200', 'HS 250h Hybrid', 'ES 350', 'ES 300', 'IS 250', 'LS 460', 'IS 350', 'HS 250h', 'CT 200h F-sport', 'LX 570', 'GS 350', 'LX 470', 'RX 450 H', 'CT 200h F SPORT', 'RC F', 'IS 200', 'RX 400 RESTAILING', 'GX 470 470', 'IS 300', 'GS 300', 'IS 250 TURBO', 'NX 300', 'IS-F', 'RX 450 HYBRID', 'ES 300 hybrid', 'IS 350 C', 'CT 200h 1.8', 'GS 450', 'RX 400 hybrid', 'CT 200h F sport', 'RX 400 H']}, 'LINCOLN': {'models': ['Navigator', 'Town Car', 'MKZ', 'MKZ hybrid', 'Continental']}, 'MASERATI': {'models': ['Ghibli', 'Quattroporte']}, 'MAZDA': {'models': ['616', '1000', 'CX-7', 'MPV', '323', 'Mazda 3', 'CX-9', '1300', 'Mazda 3 SPORT', 'Mx-5', 'Atenza', 'Premacy', 'Demio', 'CX-5', 'Mazda 6', 'Mazda 6 TOURING', 'Demio evropuli', 'Eunos 500', 'Demio 12', 'Axela', 'CX-5 Touring', 'Verisa', 'Verisa 2007', 'Demio mazda2', 'Demio Sport', 'CX-3', 'Millenia', 'Rx-8', 'Mazda 2', '626', 'Mazda 6 Grand touring', 'Protege', 'Tribute', '323 F', 'Mazda 6 Grand Touring', 'MPV LX', 'Mazda 5']}, 'MERCEDES-BENZ': {'models': ['E 350', 'E 220', 'Vito', 'E 300', 'C 180', 'A 160', 'ML 350', 'E 320', 'Sprinter', 'E 500 AMG', 'C 220', '208', 'A 170', 'E 240 E 240', 'C 250', 'Vaneo', 'CLS 550', 'GLA 250', 'C 300', 'C 350', 'CLS 500', 'S 350', 'C 200', 'CLK 320', 'ML 250', 'E 200', 'GLE 350', 'E 250', 'C 240', 'E 240', 'S 500 long', 'C 200 2.0', 'CLK 240', 'E 270', 'A 190', 'SLK 230', 'E 230', 'GL 320', 'CLK 320 AMG', 'Sprinter 411', 'E 500', 'CLS 350', 'CLA 250', 'GL 550', 'Smart', 'Sprinter MAX', 'A 140', 'E 280', 'GL 450', 'B 170', 'CLS 55 AMG', 'Sprinter VAN', 'CLK 430', 'Viano', 'CLK 200', 'E 550', 'S 550', '230', 'CLK 230 .', 'C 280', 'E 430', 'R 350', 'CLK 55 AMG', 'C 230', 'S 500', 'C 320 CDI', '320', 'C 36 AMG', 'GLE 63 AMG', 'Smart Fortwo', 'CLS 550 550', 'E 270 AVANGARDI', 'E 350 212', 'E 55', 'ML 500', 'ML 270', 'CLK 200 Kompressor', 'CLS 350 AMG', 'CLK 270', '200', 'E 350 w211', 'ML 320', 'Sprinter 315CDI', 'G 300', 'Sprinter 311', 'E 280 CDI', 'E 36 AMG', '311', 'Vito 2.2', '416', 'E 300 AVANTGARDE-LTD', '290', 'R 320', 'CL 550', 'E 350 AMG', 'C 220 CDI', 'S 320', 'E 350 4 Matic AMG Packag', 'GL 320 bluetec', 'C 320', 'E 220 cdi', 'G 320', 'R 350 BLUETEC', 'S 350 Longia', 'G 55 AMG', 'C 230 2.5', 'ML 350 BLUETEC', 'ML 270 CDI', 'C 200 KOMPRESSOR', '300', 'ML 280', 'E 270 CDI', 'CLK 230', 'E 50', 'ML 350 3.7', 'C 400', 'GLK 300', 'E 420', '270', 'C 250 luxury', 'G 550', 'GLK 350', '190', 'C 300 4matic', 'A 140 140', 'E 400', 'ML 350 4matic', 'E 350 4 MATIC', 'Sprinter VIP CLASS', 'CLK 280', 'C 230 kompresor', 'S 430', 'Citan', 'B 220', 'E 320 4matic', 'S 55 5.5', 'GLE 450', 'CLK 200 200', '280', 'E 270 4', '250', 'ML 320 cdi', 'E 200 w210', 'GL 350 BLUTEC', 'C 250 A.M.G', 'GL 350', 'C 250 AMG', 'C 180 komp', 'CL 500', '240', 'Sprinter 313CDI', 'ML 350 370', 'C 180 2.0', 'E 320 bluetec', 'Vito 115 CDI', '220', 'ML 350 ML350', 'A 200', 'G 63 AMG', 'ML 350 sport', 'SLK 32 AMG', 'C 32 AMG', 'S 550 LONG', 'Sprinter 316', 'Sprinter 314', 'CLS 350 JAPAN', 'C 320 AMG', 'E 220 W210...CDI', 'S 600', 'GLK 250', 'Sprinter 316 CDI', 'ML 63 AMG', 'ML 55 AMG', 'Sprinter 313', 'C 43 AMG', 'Vito long115', 'Vito 113', 'A 170 CDI', 'E 220 CDI', 'E 280 3.0', 'E 350 4 matic', 'C 270', 'Vito 111 CDI', 'ML 500 AMG', 'S 350 CDI 320', 'B 200', 'C 240 w203', 'CLA 250 AMG', 'CLK 320 avangarde', 'GLS 63 AMG', 'Sprinter 315CDI-XL', 'GL 500', 'B 200 Turbo', 'CLK 200 kompresor', 'C 300 sport', 'G 230 2.2cdi', 'Vito 111', 'Sprinter 308 CDI', 'Sprinter EURO4', 'Viano Ambiente', 'B 180', 'C 250 1,8 turbo', 'C 200 Kompressor', 'C 63 AMG', 'Vito 115', 'C 250 AMG-PAKET-1,8', 'B 170 B Class', 'S 430 4.3', 'E 220 211', 'C 250 1.8', 'E 220 ELEGANCE', 'S 420', 'ML 350 SPECIAL EDITION', 'E 260', 'ML 300', 'CLK 200 208', 'V 230', 'CLK 350', 'B 170 Edition One', 'E 290', 'C 230 2.0 kompresor', 'Vito 110d', 'S 63 AMG', 'E 200 CGI', 'E 200 2000', 'CL 55 AMG KOMPRESSOR', 'S 500 67', 'ML 320 AMG', 'CL550 AMG', 'A 170 Avangard', 'ML 550', 'SLK 350 300', 'Vito Exstralong', 'C 240 W 203', 'CLS 63 AMG', 'Vito Extralong', 'E 500 AVG', 'CL 600', 'E 230 124']}, 'MERCURY': {'models': ['Cougar', 'Mariner', 'Mariner Hybrid']}, 'MINI': {'models': ['Cooper', 'Countryman', 'Cooper S Cabrio R56', 'Countryman S', 'Cooper S Cabrio', 'Countryman s', 'Cooper r50', 'Countryman S turbo', 'Countryman sport', 'One', 'Cooper F-56', 'Paceman', 'Cooper CLUBMAN', 'Cooper S']}, 'MITSUBISHI': {'models': ['Airtrek', 'Lancer', 'Pajero', 'Delica', 'Colt Lancer', 'Outlander', 'I', 'Colt', 'Pajero Mini', 'Pajero IO', 'L 200', 'Montero', 'Outlander 2.0', 'Minica', 'Mirage', 'ColtPlus', 'Grandis', 'RVR', 'Outlander SPORT', 'Outlander SE', 'Outlander Sport', 'Outlander sport', 'Montero Sport', 'Carisma', 'Eclipse', 'ColtPlus Plus', 'Lancer GT', 'Chariot', 'Pajero MONTERO', 'Pajero 2.5diezel', 'Outlander xl', 'Eclipse ES', 'Space Runner', 'Airtrek turbo', 'Galant', 'Galant GTS', 'Lancer GTS', 'Delica 5']}, 'MOSKVICH': {'models': ['2140', '401', '400']}, 'NISSAN': {'models': ['Juke', 'Patrol', 'Serena', 'Maxima', 'Pathfinder', 'Patrol Y60', 'Altima', 'Rogue', 'Tiida', 'Elgrand', 'X-Trail', 'Teana', 'March', 'Rogue Sport', 'X-Terra', 'Rogue SL', 'Frontier', 'Versa', 'Note', 'Tiida 2008', 'Sentra', 'Fuga', 'Tiida AXIS', 'Bluebird', 'Micra', 'Murano', 'Skyline', 'Wingroad', 'Serena Serea', 'X-Trail X-trail', 'Presage RIDER', 'Quest 2016', 'Kicks', 'X-Trail gt', '100 NX', 'Kicks SR', 'Cefiro', 'March 231212', 'Tiida 15 M', 'Vanette', 'Quest', 'Juke Nismo RS', 'March Rafeet', 'Armada', 'Juke Nismo', 'Gloria', 'X-Trail NISSAN X TRAIL R', 'LATIO', '370Z', 'X-Trail NISMO', 'Pathfinder SE', 'Presage', 'Navara', 'Skyline 4WD', 'Tiida Latio', 'Qashqai Advance CVT', 'Almera', 'Rasheen', 'Juke nismo', 'Leaf', 'Qashqai SPORT', 'Moco', 'Silvia', 'Almera dci', 'Skyline GT250', 'Primera', 'LAFESTA', 'Rogue SPORT', 'Juke juke', 'Juke Juke', 'Terrano', 'Micra <DIESEL>', 'Juke Turbo', 'Versa s', 'Juke NISMO', 'Versa SE']}, 'OPEL': {'models': ['Vectra', 'Astra G', 'Zafira', 'Vectra b', 'Astra', 'Combo', 'Corsa', 'Meriva', 'Vectra B', 'Sintra', 'Astra 1600', 'Omega 1', 'Astra BERTONE', 'Combo 2001', 'Astra g', 'Astra H', 'Agila', 'Astra astra', 'Omega B', 'Corsa Corsa', 'Vectra C', 'Omega', 'Zafira B', 'Combo TDI', 'Vectra c', 'Tigra', 'Astra td', 'Astra GE', 'Crossland X', 'Astra suzuki mr wagon', 'Frontera', 'Astra j', 'Omega c', 'Astra CNG', 'Astra GTC 1.9 turbo dies', 'Monterey', 'Frontera A B', 'Vectra H', 'Astra gi', 'Vectra 1.6', 'Omega b', 'Combo 1700', 'Astra A.H', 'INSIGNIA']}, 'PEUGEOT': {'models': ['206', '607', '207', '406', '307', '508', '3008', '807', '206 CC', '407']}, 'PONTIAC': {'models': ['G6']}, 'PORSCHE': {'models': ['Cayenne', '911', 'Panamera', '911 meqanika', 'macan', 'Cayman', 'Cayenne S', 'Cayenne s']}, 'RENAULT': {'models': ['Megane 1.5CDI', 'Clio', 'Laguna', 'Twingo', 'Scenic', 'Megane GT Line', 'Megane', 'Megane 19', 'Kangoo', 'Duster', 'Captur QM3 Samsung', 'Kangoo Waggon', 'Megane 1.9CDI', 'Megane 5', 'Megane 1.9 CDI']}, 'ROLLS-ROYCE': {'models': ['Phantom']}, 'ROVER': {'models': ['200', '216', '416']}, 'SAAB': {'models': ['09-Mar']}, 'SATURN': {'models': ['Vue']}, 'SCION': {'models': ['iA isti', 'tC', 'xD']}, 'SEAT': {'models': ['Leon', 'Ibiza']}, 'SKODA': {'models': ['Octavia', 'Fabia', 'Octavia Scout', 'Superb', 'Octavia SCOUT']}, 'SSANGYONG': {'models': ['Korando', 'REXTON', 'Actyon', 'Kyron', 'REXTON SUPER']}, 'SUBARU': {'models': ['Forester', 'Legacy', 'Outback', 'Stella', 'XV', 'Legacy B4 twin turbo', 'XV LIMITED', 'Impreza', 'BRZ', 'Forester SH', 'Impreza G4', 'Crosstrek', 'Forester stb', 'Legacy Bl5', 'Forester XT', 'Forester 4x4', 'Forester CrossSport', 'Outback Limited', 'Forester cross sport', 'Legacy bl5', 'R2', 'Legacy Outback', 'Legacy B4', 'XV HYBRID', 'Impreza Sport', 'Sambar', 'B9 Tribeca', 'Impreza WRX/STI LIMITED', 'Legacy b4', 'Forester L.L.BEAN', 'Outback 3.0', 'Outback 2007']}, 'SUZUKI': {'models': ['Grand Vitara', 'Jimny', 'Kizashi', 'Swift', 'Liana', 'XL7', 'SX4', 'Samurai', 'Vitara', 'Aerio SX', 'CERVO', 'Kizashi sporti', 'Escudo', 'Vitara GL+', 'Swift Sport', 'Ignis', 'Alto Lapin', 'XL7 limited', 'SJ 413 Samurai', 'HUSTLER', 'Every Landy NISSAN SEREN']}, 'TOYOTA': {'models': ['Prius', 'Camry', 'CHR', 'Highlander', 'Tacoma', 'Prius C', 'Aqua', 'VOXY', 'Vitz', 'Yaris', 'RAV 4', 'Sienna', 'Vitz funkargo', 'RAV 4 XLE Sport', 'Sienta', 'Avalon LIMITED', 'Ist', 'Corolla', 'Tundra', 'RAV 4 Le', 'Avalon', 'Camry SE', 'RAV 4 s p o r t', 'Aqua S', 'Land Cruiser Prado', 'Corolla IM', 'Corolla verso', 'Auris', 'FJ Cruiser', 'Ipsum', 'Corolla 04', 'Prius 2014', 'Aqua g soft leather sele', 'Prius V', 'Passo', 'ISIS', 'Ist 1.5', 'Harrier', 'Camry se', 'Sequoia', 'Corolla LE', 'Camry S', 'Ipsum S', 'Prius plugin', 'Camry Se', 'Verso', 'Alphard', 'Camry XLE', 'Venza', 'Corolla S', 'Altezza', 'Estima', 'Camry SPORT', 'Hilux', 'Camry sport', 'Caldina', 'Aqua s', 'Hilux Surf', 'Prius C Navigation', 'Prius V ALPINA', 'Highlander sport', 'Aqua L paketi', 'Avensis', 'Prius s', 'Will Vs', 'Prius BLUG-IN', 'Yaris IA', 'Camry sporti', 'Camry HYBRID', 'Camry LE', 'Avalon limited', 'Wish', 'Vitz RS', 'Century', 'Fun Cargo', 'Aqua G klas', '4Runner', 'Corolla Im', 'Highlander 2.4 lit', 'Camry Le', 'Camry Hybrid', 'Prius 1.5I', 'Mark X', 'Yaris iA', 'Aqua G', 'Camry sport se', 'Highlander LIMITED', 'Corolla spacio', 'Camry XV50', 'Aqua HIBRID', 'Celica', 'RAV 4 SPORT', 'Prius TSS LIMITED', 'Prius S', 'Land Cruiser', 'Vitz i.ll', 'RAV 4 XLE', 'Land Cruiser Prado RX', 'Prius C 2013', 'Corolla ECO', 'Hiace', 'Prius V HYBRID', 'Camry sel', 'Belta', 'Prius 9', 'Grand HIACE', 'Yaris RS', 'Prius prius', 'Camry XLEi', 'Prius 11', 'Land Cruiser 105', 'Land Cruiser 100', 'Matrix XR', 'Prius plug-in', 'RAV 4 Dizel', 'Prius personna', 'Noah', 'Camry SPORT PAKET', 'Will Chypa', 'Sai', 'VOXY 2003', 'Ractis', 'Sienta LE', 'Avalon Limited', 'Highlander 2,4', 'Prius C 80 original', 'Highlander limited', 'Prius Plug IN', 'Mark X Zio', 'Aqua sport', 'Yaris SE', 'Land Cruiser 200', 'Highlander XLE', 'Prius 1.8', 'Corolla se', 'Prius C hybrid', 'Camry XSE', 'Land Cruiser 80', 'Prius plagin', 'Prius 3', 'RAV 4 L', 'BB', 'Camry SE HIBRYD', 'Prius Plug in', 'Land Cruiser PRADO', 'Corolla 140', 'Prius C Hybrid', 'Cami', 'Prius C YARIS IA', 'Prius C 1.5I', 'Prius V HIBRID', 'Prius C aqua']}, 'UAZ': {'models': ['31514', 'Patriot', '31514 UAZ']}, 'VAZ': {'models': ['1111', '2107', '2106', '2121 (Niva)', '2107 07', 'Vesta', '2109', '2101 01', '2105', '2103 03', '2111']}, 'VOLKSWAGEN': {'models': ['Jetta', 'Passat', 'Golf', 'Sharan', 'GTI', 'Golf 4', 'Vento', 'Polo', 'Crafter', 'Tiguan', 'Golf 6', 'Jetta GLI', 'UP', 'Passat sel', 'CC R line', 'CC 2.0 T', 'Touareg', 'Golf TDI', 'Passat R-line', 'Caddy', 'NEW Beetle', 'CC', 'Jetta SEL', 'Passat SE', 'Touran', 'Scirocco', 'Jetta TDI', 'Passat Se', 'T3', 'Golf 2', 'Golf 3', '1500,1600 Schtufenheck', 'Passat sport', 'Jetta se', 'Eos', 'Golf Gti', 'Jetta SE', 'Jetta 2.0', 'Passat RLAINI', 'Phaeton', 'Passat pasat', 'Passat 2.0 tfsi', 'Jetta SPORT', 'CC sport', 'Lupo iaponuri', 'Transporter', 'Golf 1.8', 'Routan SEL', 'Golf GTI', 'T3 0000', 'Jetta sel', 'Passat se', 'Passat B7', 'Lupo', 'Passat B5', 'Polo GTI 16V', 'Jetta sport', 'Bora', 'Jetta sei', 'Passat tdi sel', 'Crafter 2,5TDI', 'Passat SEL', 'Passat tsi-se', 'Caddy cadi', 'Jetta s', 'Jetta 2', 'Golf GOLF 5', 'Jetta Hybrid', 'Jetta 1.4 TURBO', 'T5', 'Tiguan SE']}, 'VOLVO': {'models': ['C30 2010', 'XC90', '960', 'S60', 'C70', 'XC90 3.2 AWD', 'S80', 'S70', 'S40', 'V50', '940', 'XC90 2.5turbo']}, 'ZAZ': {'models': ['969 968m', '969 luaz']}}\n"
     ]
    }
   ],
   "source": [
    "import json\n",
    "\n",
    "with open(\"./json_data/car_models.json\") as f:\n",
    "    data = json.load(f)\n",
    "\n",
    "print(data)"
   ]
  },
  {
   "cell_type": "code",
   "execution_count": 52,
   "metadata": {},
   "outputs": [
    {
     "name": "stdout",
     "output_type": "stream",
     "text": [
      "MERCEDES-BENZ 239\n"
     ]
    }
   ],
   "source": [
    "max_value = 0\n",
    "max_key = \"\"\n",
    "\n",
    "for key, value in data.items():\n",
    "    if len(list(dict(value).values())[0]) > max_value:\n",
    "        max_value = len(list(dict(value).values())[0])\n",
    "        max_key = key\n",
    "    # print(key, len(list(dict(value).values())[0]))\n",
    "\n",
    "print(max_key, max_value)"
   ]
  },
  {
   "cell_type": "code",
   "execution_count": 57,
   "metadata": {},
   "outputs": [
    {
     "name": "stdout",
     "output_type": "stream",
     "text": [
      "{'models': ['TL', 'TLX', 'RDX', 'TSX', 'MDX', 'TL saber']}\n",
      "{'models': ['147', '159', 'Giulietta', '166']}\n",
      "{'models': ['Q7', 'Q5', '50', 'A6', 'A7', 'A4 premium', 'A4', 'Q3', 'A5', 'A3 PREMIUM', 'A8', 'A4 S line', 'A4 premium plius', 'Allroad', 'Q5 S-line', '100', 'RS7', 'A3', 'Q7 sport', 'A3 4X4', 'A4 B6', 'A6 UNIVERSAL', 'Q5 Prestige', 'A6 QUATTRO', 'A4 B5', 'RS6', 'S3', 'A4 S4', 'A4 B7', 'TT', 'A6 premium plus', 'A5 Sportback', 'S6', 'A6 C7', 'A6 evropuli', 'A4 Sline']}\n",
      "{'models': ['X5', '535', '520 Vanos', '428 Sport Line', '328', '325', '530', '330', '318', '750', 'X6', '328 Xdrive', '535 M PAKET', '520', '525', '320', '528 i', 'X5 x5', '114', '320 DIESEL', '335', '730 3.0', 'X5 M', '435', 'X6 M', '325 CI', '428', '320 M', '528', '316 i', '740', '120', '135', '540 I', '650', '550', 'X5 XDRIVE', '535 i', '523', '320 i', '316', '5.30E+62', 'X3', 'X5 e53', 'M5 Japan', 'X1', '130', 'X5 XDRIVE 35D', '320 Gran Turismo', '535 Twinturbo', 'X5 X-Drive', '128 M tech', 'X3 3.5i', '550 F10', '545', 'X5 4,4i', '320 2.2', '645 CI', '225', '525 i', '320 2.0', '328 DIZEL', '320 320', '535 comfort-sport', '525 525', 'X5 3.0', '745 i', '320 I', '735', '116', '328 sulev', 'M5', 'X1 28Xdrive', 'X5 restilling', '335 335i', '750 4.8', 'X5 rest', 'X1 X-Drive', 'X5 3.0i', '3.25E+48', '645', '3.20E+38', 'M3', 'X1 4X4', '530 GT', 'M6', '325 i', 'i3', '535 I', '328 DRIFT CAR', '328 i', '745', '3.18E+38', '520 I', '525 ///M', '730', '318 m', 'X3 SDRIVE', 'X5 Japan', '535 535', '550 M Packet', '118', '118 2,0', '335 D', '535 XI', 'X5 4.8is', '525 TDI', 'X5 M packet', '320 Diesel', 'M550', '535 i xDrive', '323', '128', 'Z4', '530 M', 'M4', '340', '318 318', '530 525i', 'X5 DIESEL', '520 d xDrive Luxury', 'X4', '118 M-sport LCI', '525 Vanos', '7.30E+34', '335 M paket', 'X5 E70', '740 i', '535 M', '428 i', '530 I', '316 1995', 'Z4 3,0 SI', '325 XI', 'X5 35d', 'X5 Sport', '528 3.0', '530 i']}\n",
      "{'models': ['Century', 'Encore', 'Enclave', 'Regal']}\n",
      "{'models': ['Allante', 'Escalade', 'CTS', 'SRX', 'ATS', 'Catera', 'DTS']}\n",
      "{'models': ['Equinox', 'Cruze LT', 'Captiva', 'Cruze', 'Orlando', 'Volt', 'Avalanche', 'Malibu', 'Lacetti', 'Aveo', 'Matiz', 'Spark', 'Impala', 'Cruze ltz', 'Cruze LTZ', 'Camaro', 'Cruze strocna', 'Volt premier', 'Traverse', 'Cruze Premier', '1500', 'Equinox LT', 'Cruze RS', 'Sonic', 'Cruze LS', 'Trailblazer', 'Cruze sonic', 'Nubira', 'Cruze L T', 'Malibu LT', 'Malibu eco', 'HHR', 'Suburban', 'Cruze Cruze', 'Camaro LS', 'Silverado', 'Malibu Hybrid', 'Trax', 'Volt Full Packet', 'Volt PREMIER', 'Sonic LT', 'Corvette', 'Cruze PREMIER', 'Niva', 'Volt Premier', 'Camaro RS', 'Cruze LT RS', 'Kalos', 'Cruze S']}\n",
      "{'models': ['200', 'PT Cruiser', 'Town and Country', 'Sebring', 'Pacifica', '300', '300 LIMITED', 'PT Cruiser pt cruiser', 'Crossfire']}\n",
      "{'models': ['C1', 'C8', 'C4', 'C5', 'Berlingo', 'C1 C', 'DS 4']}\n",
      "{'models': ['Lacetti', 'Gentra', 'Matiz']}\n",
      "{'models': ['Terios', 'YRV', 'Sirion', 'Feroza', 'Mira', 'Move']}\n",
      "{'models': ['Challenger', 'Journey', 'Dart Limited', 'Dart GT 2.4', 'RAM', 'Avenger', 'Durango', 'Caliber', 'Ramcharger', 'Caravan', 'Intrepid', 'Caliber sxt', 'Dart', 'Neon', 'RAM 1500', 'Caravan tradesman', 'Charger RT', 'Caliber journey']}\n",
      "{'models': ['F50']}\n",
      "{'models': ['500', '500C Lounge', '500 Abarth', '500L LONG', 'Cinquecento', '500 Sport', 'Doblo', '500 turbo', '500C', '500 46 ml', '500 Lounge', 'Panda', '500L', '500 sport', '500 s', '500X', '500X Lounge', 'Seicento fiat 600', '500 sport panorama', 'Punto', '500 SPORT']}\n",
      "{'models': ['Escape', 'Transit', 'Escape Hybrid', 'Fusion', 'Mustang', 'Focus SE', 'Explorer', 'C-MAX', 'Fusion Titanium', 'Taurus', 'Galaxy', 'Fiesta', 'Fiesta 1.6', 'Focus', 'Fusion TITANIUM', 'Transit Connect', 'Tourneo Connect', 'Transit 350T', 'Edge', 'Mondeo', 'Escort', 'Sierra', 'Fusion phev', 'Escape Titanium', 'Ranger', 'Transit CL', 'Escape 3.0', 'Transit Fff', 'Transit S', 'C-MAX HYBRID', 'Transit 135', 'Expedition', 'Taurus interceptor', 'Focus TITANIUM', 'KA', 'Focus ST', 'Maverick', 'S-max', 'C-MAX SEL', 'Fusion SE', 'B-MAX', 'Focus Fokusi', 'Transit Custom', 'Focus Flexfuel', 'Transit Connect Prastoi', 'Transit T330', 'Escape SE', 'EcoSport SE', 'Focus Titanium', 'F150', 'Cougar', 'C-MAX C-MAX', 'Focus se', 'C-MAX PREMIUM', 'Mustang cabrio', 'Transit Tourneo', 'C-MAX SE', 'Transit 100LD', 'Explorer Turbo japan', 'Fusion Bybrid', 'Fusion 2015', 'Fusion HIBRID', 'Fiesta SE', 'Explorer XLT', 'Fusion 1.6', 'Transit ford', 'Escape HYBRID', 'EcoSport', 'Scorpio', 'Fusion hybrid', 'Courier', 'Transit 2.4', 'Fusion HYBRID', 'Sierra DIZEL', 'Fusion Hybrid', 'Taurus X', 'Escape escape', 'Focus SEL', 'Fusion HYBRID SE']}\n",
      "{'models': ['32214', '24 10', '3796', '24', '3110', '322173', '21 3.0', '21', '31105', '20']}\n",
      "{'models': ['TERRAIN', 'Yukon', 'Acadia', 'Envoy']}\n",
      "{'models': ['C30']}\n",
      "{'models': ['H6']}\n",
      "{'models': ['FIT', 'Civic', 'Cr-v', 'Hr-v EX', 'Insight', 'Stream', 'Shuttle', 'Element', 'Odyssey', 'Insight EX', 'Hr-v', 'Accord', 'FIT Sport', 'Step Wagon Pada', 'FIT SPORT', 'Civic EX', 'FIT Hbrid', 'Passport', 'Fit Aria', 'FIT S', 'Inspire', 'Fred', 'FIT HIBRID', 'Pilot', 'Elysion', 'Accord CL9 type S', 'FIT HYBRYD', 'FIT fit', 'Edix', 'Elysion 3.0', 'Civic Ferio', 'CR-Z', 'FIT Premiym', 'Cr-v Cr-v', 'FIT RS MODELI', 'FIT RS', 'Fred HIBRIDI', 'FIT RS MUGEN', 'CRX', 'Step Wagon', 'Edix FR-v', 'FIT Modulo', 'FIT GP-5', 'FIT \"S\"- PAKETI.', 'Cr-v LX', 'FIT ex', 'Crossroad', '400X', 'Insight LX', 'FIT GP-6', 'Hr-v EXL', 'FIT Hybrid', 'FIT PREMIUMI', 'Crosstour', 'Legend FULL', 'FIT PREMIUM PAKETI', 'Integra', 'Step Wagon RG2 SPADA', 'FIT NAVI PREMIUM', 'Civic Hybrid', 'Ridgeline', 'FIT LX']}\n",
      "{'models': ['H3', 'H2']}\n",
      "{'models': ['Santa FE', 'Sonata', 'Elantra', 'H1', 'Tucson', 'Genesis', 'Elantra sport limited', 'I30', 'Veloster', 'Sonata SPORT', 'Elantra SE', 'Accent', 'Grandeur', 'kona', 'IX35', 'Elantra limited', 'Sonata 2.0t', 'Sonata S', 'Sonata blue edition', 'Sonata hybrid', 'Elantra LIMITED', 'Elantra GT', 'Sonata HYBRID', 'Santa FE Ultimate', 'Sonata Hibrid', 'Getz', 'Elantra gt', 'Elantra Limited', 'Elantra GLS / LIMITED', 'Ioniq', 'Sonata LPG', 'IX35 2.0', 'Veloster R-spec', 'Azera', 'Sonata Hybrid', 'Elantra Gt', 'Tucson Limited', 'Elantra Se', 'Elantra 2014', 'Lantra', 'Sonata Limited', 'Tucson Se', 'Sonata 2.4L', 'Lantra LIMITED', 'Veloster Turbo', 'Sonata Sport', 'Tucson SE', 'H1 grandstarex', 'H1 GRAND STAREX', 'Accent SE', 'Elantra 2016', 'Veloster TURBO', 'Veloster remix', 'Elantra LIMITEDI', 'Elantra i30', 'Santa FE sport', 'Sonata sport', 'Sonata SE LIMITED', 'H1 starixs', 'Accent GS', 'Sonata LIMITED', 'Elantra GS', 'i20', 'i40', 'Sonata SE', 'Veracruz', 'Galloper', 'Elantra se']}\n",
      "{'models': ['QX60', 'QX80', 'G20', 'FX35', 'EX37', 'JX35', 'FX45', 'EX35', 'QX56', 'M37', 'G37', 'Q50 S Red', 'G35 x', 'Q45']}\n",
      "{'models': ['Rodeo', 'VehiCross', 'Wizard']}\n",
      "{'models': ['XF', 'F-type', 'XJ', 'E-pace', 'X-type', 'F-pace', 'Daimler', 'XK', 'S-type']}\n",
      "{'models': ['Grand Cherokee', 'Compass', 'Cherokee', 'Liberty', 'Grand Cherokee Saiubileo', 'Wrangler', 'Renegade', 'Patriot', 'Grand Cherokee LAREDO', 'Grand Cherokee special e', 'Wrangler sport', 'Patriot 70th anniversary', 'Patriot Latitude']}\n",
      "{'models': ['Picanto', 'Carnival grand', 'Cerato K3', 'Optima', 'RIO', 'SOUL', 'Sorento', 'Sportage', 'Carnival', 'Cadenza', 'Cerato', 'RIO lx', 'Avella', 'Forte', 'RIO lX', 'Optima X', 'Optima Hybrid', 'Sorento SX', 'Optima ECO', 'Niro', 'Optima HYBRID', 'Sportage SX', 'Sportage EX', 'Optima EX', 'Sorento EX', 'Ceed', 'Sportage PRESTIGE', 'Optima SXL', 'Carens', 'Optima hybrid', 'Optima hybid', 'Optima ex', 'Optima k5']}\n",
      "{'models': ['Musa']}\n",
      "{'models': ['Discovery', 'Freelander', 'Range Rover', 'Land Rover Sport', 'Discovery LR3', 'Range Rover VOGUE', 'Range Rover Evoque 2.0', 'Discovery IV']}\n",
      "{'models': ['RX 450', 'RX 350', 'RX 400', 'GX 470', 'GX 460', 'CT 200h', 'RX 300', 'RX 400 HYBRID', 'NX 200', 'HS 250h Hybrid', 'ES 350', 'ES 300', 'IS 250', 'LS 460', 'IS 350', 'HS 250h', 'CT 200h F-sport', 'LX 570', 'GS 350', 'LX 470', 'RX 450 H', 'CT 200h F SPORT', 'RC F', 'IS 200', 'RX 400 RESTAILING', 'GX 470 470', 'IS 300', 'GS 300', 'IS 250 TURBO', 'NX 300', 'IS-F', 'RX 450 HYBRID', 'ES 300 hybrid', 'IS 350 C', 'CT 200h 1.8', 'GS 450', 'RX 400 hybrid', 'CT 200h F sport', 'RX 400 H']}\n",
      "{'models': ['Navigator', 'Town Car', 'MKZ', 'MKZ hybrid', 'Continental']}\n",
      "{'models': ['Ghibli', 'Quattroporte']}\n",
      "{'models': ['616', '1000', 'CX-7', 'MPV', '323', 'Mazda 3', 'CX-9', '1300', 'Mazda 3 SPORT', 'Mx-5', 'Atenza', 'Premacy', 'Demio', 'CX-5', 'Mazda 6', 'Mazda 6 TOURING', 'Demio evropuli', 'Eunos 500', 'Demio 12', 'Axela', 'CX-5 Touring', 'Verisa', 'Verisa 2007', 'Demio mazda2', 'Demio Sport', 'CX-3', 'Millenia', 'Rx-8', 'Mazda 2', '626', 'Mazda 6 Grand touring', 'Protege', 'Tribute', '323 F', 'Mazda 6 Grand Touring', 'MPV LX', 'Mazda 5']}\n",
      "{'models': ['E 350', 'E 220', 'Vito', 'E 300', 'C 180', 'A 160', 'ML 350', 'E 320', 'Sprinter', 'E 500 AMG', 'C 220', '208', 'A 170', 'E 240 E 240', 'C 250', 'Vaneo', 'CLS 550', 'GLA 250', 'C 300', 'C 350', 'CLS 500', 'S 350', 'C 200', 'CLK 320', 'ML 250', 'E 200', 'GLE 350', 'E 250', 'C 240', 'E 240', 'S 500 long', 'C 200 2.0', 'CLK 240', 'E 270', 'A 190', 'SLK 230', 'E 230', 'GL 320', 'CLK 320 AMG', 'Sprinter 411', 'E 500', 'CLS 350', 'CLA 250', 'GL 550', 'Smart', 'Sprinter MAX', 'A 140', 'E 280', 'GL 450', 'B 170', 'CLS 55 AMG', 'Sprinter VAN', 'CLK 430', 'Viano', 'CLK 200', 'E 550', 'S 550', '230', 'CLK 230 .', 'C 280', 'E 430', 'R 350', 'CLK 55 AMG', 'C 230', 'S 500', 'C 320 CDI', '320', 'C 36 AMG', 'GLE 63 AMG', 'Smart Fortwo', 'CLS 550 550', 'E 270 AVANGARDI', 'E 350 212', 'E 55', 'ML 500', 'ML 270', 'CLK 200 Kompressor', 'CLS 350 AMG', 'CLK 270', '200', 'E 350 w211', 'ML 320', 'Sprinter 315CDI', 'G 300', 'Sprinter 311', 'E 280 CDI', 'E 36 AMG', '311', 'Vito 2.2', '416', 'E 300 AVANTGARDE-LTD', '290', 'R 320', 'CL 550', 'E 350 AMG', 'C 220 CDI', 'S 320', 'E 350 4 Matic AMG Packag', 'GL 320 bluetec', 'C 320', 'E 220 cdi', 'G 320', 'R 350 BLUETEC', 'S 350 Longia', 'G 55 AMG', 'C 230 2.5', 'ML 350 BLUETEC', 'ML 270 CDI', 'C 200 KOMPRESSOR', '300', 'ML 280', 'E 270 CDI', 'CLK 230', 'E 50', 'ML 350 3.7', 'C 400', 'GLK 300', 'E 420', '270', 'C 250 luxury', 'G 550', 'GLK 350', '190', 'C 300 4matic', 'A 140 140', 'E 400', 'ML 350 4matic', 'E 350 4 MATIC', 'Sprinter VIP CLASS', 'CLK 280', 'C 230 kompresor', 'S 430', 'Citan', 'B 220', 'E 320 4matic', 'S 55 5.5', 'GLE 450', 'CLK 200 200', '280', 'E 270 4', '250', 'ML 320 cdi', 'E 200 w210', 'GL 350 BLUTEC', 'C 250 A.M.G', 'GL 350', 'C 250 AMG', 'C 180 komp', 'CL 500', '240', 'Sprinter 313CDI', 'ML 350 370', 'C 180 2.0', 'E 320 bluetec', 'Vito 115 CDI', '220', 'ML 350 ML350', 'A 200', 'G 63 AMG', 'ML 350 sport', 'SLK 32 AMG', 'C 32 AMG', 'S 550 LONG', 'Sprinter 316', 'Sprinter 314', 'CLS 350 JAPAN', 'C 320 AMG', 'E 220 W210...CDI', 'S 600', 'GLK 250', 'Sprinter 316 CDI', 'ML 63 AMG', 'ML 55 AMG', 'Sprinter 313', 'C 43 AMG', 'Vito long115', 'Vito 113', 'A 170 CDI', 'E 220 CDI', 'E 280 3.0', 'E 350 4 matic', 'C 270', 'Vito 111 CDI', 'ML 500 AMG', 'S 350 CDI 320', 'B 200', 'C 240 w203', 'CLA 250 AMG', 'CLK 320 avangarde', 'GLS 63 AMG', 'Sprinter 315CDI-XL', 'GL 500', 'B 200 Turbo', 'CLK 200 kompresor', 'C 300 sport', 'G 230 2.2cdi', 'Vito 111', 'Sprinter 308 CDI', 'Sprinter EURO4', 'Viano Ambiente', 'B 180', 'C 250 1,8 turbo', 'C 200 Kompressor', 'C 63 AMG', 'Vito 115', 'C 250 AMG-PAKET-1,8', 'B 170 B Class', 'S 430 4.3', 'E 220 211', 'C 250 1.8', 'E 220 ELEGANCE', 'S 420', 'ML 350 SPECIAL EDITION', 'E 260', 'ML 300', 'CLK 200 208', 'V 230', 'CLK 350', 'B 170 Edition One', 'E 290', 'C 230 2.0 kompresor', 'Vito 110d', 'S 63 AMG', 'E 200 CGI', 'E 200 2000', 'CL 55 AMG KOMPRESSOR', 'S 500 67', 'ML 320 AMG', 'CL550 AMG', 'A 170 Avangard', 'ML 550', 'SLK 350 300', 'Vito Exstralong', 'C 240 W 203', 'CLS 63 AMG', 'Vito Extralong', 'E 500 AVG', 'CL 600', 'E 230 124']}\n",
      "{'models': ['Cougar', 'Mariner', 'Mariner Hybrid']}\n",
      "{'models': ['Cooper', 'Countryman', 'Cooper S Cabrio R56', 'Countryman S', 'Cooper S Cabrio', 'Countryman s', 'Cooper r50', 'Countryman S turbo', 'Countryman sport', 'One', 'Cooper F-56', 'Paceman', 'Cooper CLUBMAN', 'Cooper S']}\n",
      "{'models': ['Airtrek', 'Lancer', 'Pajero', 'Delica', 'Colt Lancer', 'Outlander', 'I', 'Colt', 'Pajero Mini', 'Pajero IO', 'L 200', 'Montero', 'Outlander 2.0', 'Minica', 'Mirage', 'ColtPlus', 'Grandis', 'RVR', 'Outlander SPORT', 'Outlander SE', 'Outlander Sport', 'Outlander sport', 'Montero Sport', 'Carisma', 'Eclipse', 'ColtPlus Plus', 'Lancer GT', 'Chariot', 'Pajero MONTERO', 'Pajero 2.5diezel', 'Outlander xl', 'Eclipse ES', 'Space Runner', 'Airtrek turbo', 'Galant', 'Galant GTS', 'Lancer GTS', 'Delica 5']}\n",
      "{'models': ['2140', '401', '400']}\n",
      "{'models': ['Juke', 'Patrol', 'Serena', 'Maxima', 'Pathfinder', 'Patrol Y60', 'Altima', 'Rogue', 'Tiida', 'Elgrand', 'X-Trail', 'Teana', 'March', 'Rogue Sport', 'X-Terra', 'Rogue SL', 'Frontier', 'Versa', 'Note', 'Tiida 2008', 'Sentra', 'Fuga', 'Tiida AXIS', 'Bluebird', 'Micra', 'Murano', 'Skyline', 'Wingroad', 'Serena Serea', 'X-Trail X-trail', 'Presage RIDER', 'Quest 2016', 'Kicks', 'X-Trail gt', '100 NX', 'Kicks SR', 'Cefiro', 'March 231212', 'Tiida 15 M', 'Vanette', 'Quest', 'Juke Nismo RS', 'March Rafeet', 'Armada', 'Juke Nismo', 'Gloria', 'X-Trail NISSAN X TRAIL R', 'LATIO', '370Z', 'X-Trail NISMO', 'Pathfinder SE', 'Presage', 'Navara', 'Skyline 4WD', 'Tiida Latio', 'Qashqai Advance CVT', 'Almera', 'Rasheen', 'Juke nismo', 'Leaf', 'Qashqai SPORT', 'Moco', 'Silvia', 'Almera dci', 'Skyline GT250', 'Primera', 'LAFESTA', 'Rogue SPORT', 'Juke juke', 'Juke Juke', 'Terrano', 'Micra <DIESEL>', 'Juke Turbo', 'Versa s', 'Juke NISMO', 'Versa SE']}\n",
      "{'models': ['Vectra', 'Astra G', 'Zafira', 'Vectra b', 'Astra', 'Combo', 'Corsa', 'Meriva', 'Vectra B', 'Sintra', 'Astra 1600', 'Omega 1', 'Astra BERTONE', 'Combo 2001', 'Astra g', 'Astra H', 'Agila', 'Astra astra', 'Omega B', 'Corsa Corsa', 'Vectra C', 'Omega', 'Zafira B', 'Combo TDI', 'Vectra c', 'Tigra', 'Astra td', 'Astra GE', 'Crossland X', 'Astra suzuki mr wagon', 'Frontera', 'Astra j', 'Omega c', 'Astra CNG', 'Astra GTC 1.9 turbo dies', 'Monterey', 'Frontera A B', 'Vectra H', 'Astra gi', 'Vectra 1.6', 'Omega b', 'Combo 1700', 'Astra A.H', 'INSIGNIA']}\n",
      "{'models': ['206', '607', '207', '406', '307', '508', '3008', '807', '206 CC', '407']}\n",
      "{'models': ['G6']}\n",
      "{'models': ['Cayenne', '911', 'Panamera', '911 meqanika', 'macan', 'Cayman', 'Cayenne S', 'Cayenne s']}\n",
      "{'models': ['Megane 1.5CDI', 'Clio', 'Laguna', 'Twingo', 'Scenic', 'Megane GT Line', 'Megane', 'Megane 19', 'Kangoo', 'Duster', 'Captur QM3 Samsung', 'Kangoo Waggon', 'Megane 1.9CDI', 'Megane 5', 'Megane 1.9 CDI']}\n",
      "{'models': ['Phantom']}\n",
      "{'models': ['200', '216', '416']}\n",
      "{'models': ['09-Mar']}\n",
      "{'models': ['Vue']}\n",
      "{'models': ['iA isti', 'tC', 'xD']}\n",
      "{'models': ['Leon', 'Ibiza']}\n",
      "{'models': ['Octavia', 'Fabia', 'Octavia Scout', 'Superb', 'Octavia SCOUT']}\n",
      "{'models': ['Korando', 'REXTON', 'Actyon', 'Kyron', 'REXTON SUPER']}\n",
      "{'models': ['Forester', 'Legacy', 'Outback', 'Stella', 'XV', 'Legacy B4 twin turbo', 'XV LIMITED', 'Impreza', 'BRZ', 'Forester SH', 'Impreza G4', 'Crosstrek', 'Forester stb', 'Legacy Bl5', 'Forester XT', 'Forester 4x4', 'Forester CrossSport', 'Outback Limited', 'Forester cross sport', 'Legacy bl5', 'R2', 'Legacy Outback', 'Legacy B4', 'XV HYBRID', 'Impreza Sport', 'Sambar', 'B9 Tribeca', 'Impreza WRX/STI LIMITED', 'Legacy b4', 'Forester L.L.BEAN', 'Outback 3.0', 'Outback 2007']}\n",
      "{'models': ['Grand Vitara', 'Jimny', 'Kizashi', 'Swift', 'Liana', 'XL7', 'SX4', 'Samurai', 'Vitara', 'Aerio SX', 'CERVO', 'Kizashi sporti', 'Escudo', 'Vitara GL+', 'Swift Sport', 'Ignis', 'Alto Lapin', 'XL7 limited', 'SJ 413 Samurai', 'HUSTLER', 'Every Landy NISSAN SEREN']}\n",
      "{'models': ['Prius', 'Camry', 'CHR', 'Highlander', 'Tacoma', 'Prius C', 'Aqua', 'VOXY', 'Vitz', 'Yaris', 'RAV 4', 'Sienna', 'Vitz funkargo', 'RAV 4 XLE Sport', 'Sienta', 'Avalon LIMITED', 'Ist', 'Corolla', 'Tundra', 'RAV 4 Le', 'Avalon', 'Camry SE', 'RAV 4 s p o r t', 'Aqua S', 'Land Cruiser Prado', 'Corolla IM', 'Corolla verso', 'Auris', 'FJ Cruiser', 'Ipsum', 'Corolla 04', 'Prius 2014', 'Aqua g soft leather sele', 'Prius V', 'Passo', 'ISIS', 'Ist 1.5', 'Harrier', 'Camry se', 'Sequoia', 'Corolla LE', 'Camry S', 'Ipsum S', 'Prius plugin', 'Camry Se', 'Verso', 'Alphard', 'Camry XLE', 'Venza', 'Corolla S', 'Altezza', 'Estima', 'Camry SPORT', 'Hilux', 'Camry sport', 'Caldina', 'Aqua s', 'Hilux Surf', 'Prius C Navigation', 'Prius V ALPINA', 'Highlander sport', 'Aqua L paketi', 'Avensis', 'Prius s', 'Will Vs', 'Prius BLUG-IN', 'Yaris IA', 'Camry sporti', 'Camry HYBRID', 'Camry LE', 'Avalon limited', 'Wish', 'Vitz RS', 'Century', 'Fun Cargo', 'Aqua G klas', '4Runner', 'Corolla Im', 'Highlander 2.4 lit', 'Camry Le', 'Camry Hybrid', 'Prius 1.5I', 'Mark X', 'Yaris iA', 'Aqua G', 'Camry sport se', 'Highlander LIMITED', 'Corolla spacio', 'Camry XV50', 'Aqua HIBRID', 'Celica', 'RAV 4 SPORT', 'Prius TSS LIMITED', 'Prius S', 'Land Cruiser', 'Vitz i.ll', 'RAV 4 XLE', 'Land Cruiser Prado RX', 'Prius C 2013', 'Corolla ECO', 'Hiace', 'Prius V HYBRID', 'Camry sel', 'Belta', 'Prius 9', 'Grand HIACE', 'Yaris RS', 'Prius prius', 'Camry XLEi', 'Prius 11', 'Land Cruiser 105', 'Land Cruiser 100', 'Matrix XR', 'Prius plug-in', 'RAV 4 Dizel', 'Prius personna', 'Noah', 'Camry SPORT PAKET', 'Will Chypa', 'Sai', 'VOXY 2003', 'Ractis', 'Sienta LE', 'Avalon Limited', 'Highlander 2,4', 'Prius C 80 original', 'Highlander limited', 'Prius Plug IN', 'Mark X Zio', 'Aqua sport', 'Yaris SE', 'Land Cruiser 200', 'Highlander XLE', 'Prius 1.8', 'Corolla se', 'Prius C hybrid', 'Camry XSE', 'Land Cruiser 80', 'Prius plagin', 'Prius 3', 'RAV 4 L', 'BB', 'Camry SE HIBRYD', 'Prius Plug in', 'Land Cruiser PRADO', 'Corolla 140', 'Prius C Hybrid', 'Cami', 'Prius C YARIS IA', 'Prius C 1.5I', 'Prius V HIBRID', 'Prius C aqua']}\n",
      "{'models': ['31514', 'Patriot', '31514 UAZ']}\n",
      "{'models': ['1111', '2107', '2106', '2121 (Niva)', '2107 07', 'Vesta', '2109', '2101 01', '2105', '2103 03', '2111']}\n",
      "{'models': ['Jetta', 'Passat', 'Golf', 'Sharan', 'GTI', 'Golf 4', 'Vento', 'Polo', 'Crafter', 'Tiguan', 'Golf 6', 'Jetta GLI', 'UP', 'Passat sel', 'CC R line', 'CC 2.0 T', 'Touareg', 'Golf TDI', 'Passat R-line', 'Caddy', 'NEW Beetle', 'CC', 'Jetta SEL', 'Passat SE', 'Touran', 'Scirocco', 'Jetta TDI', 'Passat Se', 'T3', 'Golf 2', 'Golf 3', '1500,1600 Schtufenheck', 'Passat sport', 'Jetta se', 'Eos', 'Golf Gti', 'Jetta SE', 'Jetta 2.0', 'Passat RLAINI', 'Phaeton', 'Passat pasat', 'Passat 2.0 tfsi', 'Jetta SPORT', 'CC sport', 'Lupo iaponuri', 'Transporter', 'Golf 1.8', 'Routan SEL', 'Golf GTI', 'T3 0000', 'Jetta sel', 'Passat se', 'Passat B7', 'Lupo', 'Passat B5', 'Polo GTI 16V', 'Jetta sport', 'Bora', 'Jetta sei', 'Passat tdi sel', 'Crafter 2,5TDI', 'Passat SEL', 'Passat tsi-se', 'Caddy cadi', 'Jetta s', 'Jetta 2', 'Golf GOLF 5', 'Jetta Hybrid', 'Jetta 1.4 TURBO', 'T5', 'Tiguan SE']}\n",
      "{'models': ['C30 2010', 'XC90', '960', 'S60', 'C70', 'XC90 3.2 AWD', 'S80', 'S70', 'S40', 'V50', '940', 'XC90 2.5turbo']}\n",
      "{'models': ['969 968m', '969 luaz']}\n"
     ]
    }
   ],
   "source": [
    "for key, value in data.items():\n",
    "        print(value)"
   ]
  },
  {
   "cell_type": "code",
   "execution_count": 55,
   "metadata": {},
   "outputs": [
    {
     "name": "stdout",
     "output_type": "stream",
     "text": [
      "category ['Jeep', 'Hatchback', 'Sedan', 'Microbus', 'Goods wagon', 'Universal', 'Coupe', 'Minivan', 'Cabriolet', 'Limousine', 'Pickup'] 11\n",
      "leather_interior ['Yes', 'No'] 2\n",
      "fuel_type ['Hybrid', 'Petrol', 'Diesel', 'CNG', 'Plug-in Hybrid', 'LPG'] 6\n",
      "gear_box_type ['Automatic', 'Tiptronic', 'Variator', 'Manual'] 4\n",
      "drive_wheels ['4x4', 'Front', 'Rear'] 3\n",
      "wheel ['Left wheel', 'Right-hand drive'] 2\n"
     ]
    }
   ],
   "source": [
    "import json\n",
    "\n",
    "with open(\"./json_data/car_other_properties.json\") as f:\n",
    "    data = json.load(f)\n",
    "\n",
    "for key, value in data.items():\n",
    "    print(key, value, len(value))"
   ]
  }
 ],
 "metadata": {
  "kernelspec": {
   "display_name": "ds-practice",
   "language": "python",
   "name": "python3"
  },
  "language_info": {
   "codemirror_mode": {
    "name": "ipython",
    "version": 3
   },
   "file_extension": ".py",
   "mimetype": "text/x-python",
   "name": "python",
   "nbconvert_exporter": "python",
   "pygments_lexer": "ipython3",
   "version": "3.11.4"
  }
 },
 "nbformat": 4,
 "nbformat_minor": 2
}
